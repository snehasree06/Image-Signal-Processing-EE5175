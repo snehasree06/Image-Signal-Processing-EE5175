{
 "cells": [
  {
   "cell_type": "markdown",
   "id": "92c4d63b",
   "metadata": {},
   "source": [
    "***1. Assume a Markov-1 process with covariance matrix $R$ of size $8 \\times 8$ and $\\rho=0.91$. Compute the Energy Packing Efficiency and De-correlation Efficiency of the Walsh-Haddamard Transform and Discrete Cosine Transform for the above process. What is your observation about the eigenvectors of $\\mathrm{R}$ in relation to the DCT basis?***"
   ]
  },
  {
   "cell_type": "markdown",
   "id": "edfa692e",
   "metadata": {},
   "source": [
    "# Markov-1 Process\n",
    "\n",
    "A 3x3 covariance matrix of a markov-1-process is of the form  \n",
    "\n",
    "$R_{3x3}$ = \\begin{matrix}\n",
    "            \\left( \\begin{array}{cc}\n",
    "          1&\\rho &\\rho^2\\\\\n",
    "          \\rho&1&\\rho\\\\\n",
    "          \\rho^2&\\rho&1\\\\\n",
    "          \\end{array}\\right)\n",
    "         \\end{matrix} \n",
    "         \n",
    " so in general for any nxn matrix the covariance matrix can be of form $r_{i_j}=\\rho^{|i-j|}$ where $r_{i_j}$ is the ijth element of $R_{nxn}$ matrix"
   ]
  },
  {
   "cell_type": "code",
   "execution_count": 1,
   "id": "04319ceb",
   "metadata": {},
   "outputs": [],
   "source": [
    "import numpy as np\n",
    "import matplotlib.pyplot as plt\n",
    "\n",
    "def markov_one_process(rho,n):\n",
    "    x=np.arange(n) \n",
    "    y=np.arange(n)\n",
    "    X,Y=np.meshgrid(x,y)\n",
    "    return rho**(np.abs(X-Y))"
   ]
  },
  {
   "cell_type": "markdown",
   "id": "a9125467",
   "metadata": {},
   "source": [
    "# Walsh Haddamard Matrix \n",
    "Walsh Haddariaed Transform:\n",
    "\n",
    "The Haddamard transform matrices $\\mathrm{Hn}$ ale NXN matrices\n",
    "\n",
    "wheu $N=2^{n}, n=1,2,3, \\ldots$\n",
    "\n",
    "These can be geneeated from a core matrix\n",
    "\n",
    "$$\n",
    "H_{1}=\\frac{1}{\\sqrt{2}}\\left[\\begin{array}{rr}\n",
    "1 & 1 \\\\\n",
    "1 & -1\n",
    "\\end{array}\\right]\n",
    "$$\n",
    "\n",
    "and $H_{n}=H_{n-1} \\otimes H_{1}=H_{1} \\otimes H_{n-1}$"
   ]
  },
  {
   "cell_type": "code",
   "execution_count": 2,
   "id": "e8bf440c",
   "metadata": {},
   "outputs": [],
   "source": [
    "def walsh_haddamard_matrix(n):\n",
    "    H1 = np.array(([1, 1], [1, -1]))/np.sqrt(2)\n",
    "    H = H1.copy()\n",
    "    if n == 1:\n",
    "        return H1\n",
    "    else:\n",
    "        for i in range(1, n):\n",
    "            H = np.kron(H, H1) #Hnxn=Hn-1xn-1 kronecker with H1\n",
    "        return H"
   ]
  },
  {
   "cell_type": "markdown",
   "id": "6322d7a6",
   "metadata": {},
   "source": [
    "# DCT Matrix\n",
    "$$\n",
    "\\begin{aligned}\n",
    "& \\begin{array}{ll}\\text { 1D-DCT is as follows: }  \\\\V(K)=\\alpha(k) \\sum_{n=0}^{N-1} u(n) \\cos \\left[\\frac{\\pi(2 n+1) K}{2 N}\\right] ; 0 \\leq k \\leq N-1\\end{array} \\\\\n",
    "& \\text { where } \\alpha(0)=\\frac{1}{\\sqrt{N}}, \\alpha(K)=\\sqrt{\\frac{2}{N}}, 1 \\leq K \\leq N-1 \\\\\n",
    "& \\text { 1D-DCT : } u(n)=\\sum_{k=0}^{N-1} \\alpha(K) v(K) \\cos \\left[\\frac{\\pi(2 n+1) K}{2 N}\\right] ; \\quad 0 \\leqslant n \\leqslant N-1 \\\\\n",
    "& V(K)=\\alpha(k) \\sum_{n=0}^{N-1} u(n) \\cos \\left(\\frac{\\pi(2 n+1) K}{2 N}\\right) \\\\\n",
    "& \\text { can be written as } v=C \\text { u }\n",
    "\\end{aligned}\n",
    "$$\n",
    "\n",
    "where\n",
    "\n",
    "$$\n",
    "C(k, n)=\\left[\\begin{array}{Cl}\n",
    "\\frac{1}{\\sqrt{N}} ; k=0, & 0 \\leq n \\leq N-1 \\\\\n",
    "\\sqrt{\\frac{2}{N}} \\cos \\left[\\frac{\\pi(2 n+1) k}{2 N}\\right] ; & 1 \\leq K \\leq N-1 \\\\\n",
    "0 \\leq n \\leq N-1\n",
    "\\end{array}\\right.\n",
    "$$"
   ]
  },
  {
   "cell_type": "code",
   "execution_count": 3,
   "id": "323b2c19",
   "metadata": {},
   "outputs": [],
   "source": [
    "def DCT_matrix(N):\n",
    "    n, k = np.meshgrid(np.arange(N), np.arange(N))\n",
    "    C = (np.sqrt(2/N))*(np.cos(np.pi*(2*n+1)*k/(2*N)))\n",
    "    C[k == 0] = np.sqrt(1/N)\n",
    "    return C"
   ]
  },
  {
   "cell_type": "markdown",
   "id": "71b8dbd5",
   "metadata": {},
   "source": [
    "# Energy Packing efficiency (EPE)\n",
    "The EPE  is given by \n",
    "\n",
    "EPE(M)=$\\frac{\\sum_{i=1}^{M}r'(i,i)}{\\sum_{j=1}^{N}r'(j,j)}$\n",
    " \n",
    "where M is the first M coefficients and N is the total coefficients"
   ]
  },
  {
   "cell_type": "code",
   "execution_count": 4,
   "id": "754fae23",
   "metadata": {},
   "outputs": [],
   "source": [
    "def EPE(R):\n",
    "    diag_vals = np.abs(np.diag(R))\n",
    "    total_energy = np.sum(diag_vals)\n",
    "    energy_packed = np.cumsum(diag_vals) #cumulative sum of diagonal values\n",
    "    return energy_packed/total_energy"
   ]
  },
  {
   "cell_type": "markdown",
   "id": "695a6533",
   "metadata": {},
   "source": [
    "# Decorrelation Efficiency \n",
    "The decorrelation efficiency $\\eta$ is given by\n",
    "$\\eta=1-\\frac{\\alpha}{\\beta}$\n",
    "where $\\alpha=\\sum_{i,j=1,i\\not=j}^{N}|r'(i,i)|$ and $\\beta=\\sum_{i,j=1,i\\not=j}^{N}|r(i,i)|$"
   ]
  },
  {
   "cell_type": "code",
   "execution_count": 29,
   "id": "90d2d39d",
   "metadata": {},
   "outputs": [],
   "source": [
    "def decorrelation_efficiency(R, R_prime):\n",
    "    n = np.shape(R)[0]\n",
    "    non_diagonal_vals = 1-np.eye(n)\n",
    "    r = np.abs(non_diagonal_vals*R)\n",
    "    r_prime = np.abs(non_diagonal_vals*R_prime)\n",
    "    alpha = np.sum(r_prime)\n",
    "    beta = np.sum(r)\n",
    "    eta = 1-(alpha/beta)\n",
    "    return eta"
   ]
  },
  {
   "cell_type": "markdown",
   "id": "d34acaf3",
   "metadata": {},
   "source": [
    "# 2D DCT using 1D DCT\n",
    "\n",
    "The 2D-DCT using 1D-DCT for a given image $U_{mxn}$ can be calculated as $V=A_{mxm}UB_{nxn}^T$ where A and B are the 1D unitary DCT matrix"
   ]
  },
  {
   "cell_type": "code",
   "execution_count": 30,
   "id": "965b1d55",
   "metadata": {},
   "outputs": [],
   "source": [
    "def DCT_2D(image):\n",
    "    m, n = np.shape(image)\n",
    "    A = DCT_matrix(m)\n",
    "    B = DCT_matrix(n)\n",
    "    return A@image@(B.T)"
   ]
  },
  {
   "cell_type": "markdown",
   "id": "ef05dc34",
   "metadata": {},
   "source": [
    "# 2D WHT using 1D WHT\n",
    "The 2D-WHT using 1D-WHt for a given image $U_{mxn}$ can be calculated as  $V=H_{mxm}UH_{nxn}^T$ where H's are the 1D-unitary WHT matrices of size in powers of 2"
   ]
  },
  {
   "cell_type": "code",
   "execution_count": 31,
   "id": "877bd184",
   "metadata": {},
   "outputs": [],
   "source": [
    "def WHT_2D(image):\n",
    "    x, y = np.shape(image)\n",
    "    n_x = int(np.ceil(np.log2(x)))\n",
    "    n_y = int(np.ceil(np.log2(y)))\n",
    "    diff_x = 2**n_x - x\n",
    "    diff_y = 2**n_y - y\n",
    "    assert diff_x == 0 and diff_y ==0, \"Image dimensions should be a power of 2\"\n",
    "    H_x = walsh_haddamard_matrix(n_x)\n",
    "    H_y = walsh_haddamard_matrix(n_y)\n",
    "    transform_coeffs = H_x@image@(H_y.T)\n",
    "    return transform_coeffs"
   ]
  },
  {
   "cell_type": "code",
   "execution_count": 32,
   "id": "e4f0c03b",
   "metadata": {},
   "outputs": [],
   "source": [
    "# constructing the R matrix\n",
    "n=8\n",
    "rho=0.91\n",
    "R = markov_one_process(rho, n)\n",
    "# Get the 2D DCT and WHT of R\n",
    "R_DCT = DCT_2D(R)\n",
    "R_WHT = WHT_2D(R)\n",
    "# computing the energy packing and decorrelation efficiencies\n",
    "epe_R_DCT = EPE(R_DCT)\n",
    "epe_R_WHT = EPE(R_WHT)\n",
    "eta_R_DCT = decorrelation_efficiency(R, R_DCT)\n",
    "eta_R_WHT = decorrelation_efficiency(R, R_WHT)"
   ]
  },
  {
   "cell_type": "code",
   "execution_count": 33,
   "id": "27ee6a2e",
   "metadata": {},
   "outputs": [
    {
     "data": {
      "image/png": "[encoded data removed]",
      "text/plain": [
       "<Figure size 288x288 with 1 Axes>"
      ]
     },
     "metadata": {
      "needs_background": "light"
     },
     "output_type": "display_data"
    }
   ],
   "source": [
    "plt.figure(figsize=(4, 4))\n",
    "plt.plot(np.arange(n)+1, epe_R_DCT, 'y')\n",
    "plt.plot(np.arange(n)+1, epe_R_WHT, 'black')\n",
    "plt.xlabel(\"Number of Coefficients (m)\")\n",
    "plt.ylabel(\"EPE\")\n",
    "plt.title(\"Energy Packing Efficiency\")\n",
    "plt.legend([\"DCT\", \"WHT\"])\n",
    "plt.show()"
   ]
  },
  {
   "cell_type": "code",
   "execution_count": 34,
   "id": "174d60d5",
   "metadata": {},
   "outputs": [
    {
     "name": "stdout",
     "output_type": "stream",
     "text": [
      "eta_R_DCT 0.9804711989227338\n",
      "eta_R_WHT 0.9485667904674058\n"
     ]
    }
   ],
   "source": [
    "print(\"eta_R_DCT\",eta_R_DCT)\n",
    "print(\"eta_R_WHT\",eta_R_WHT)"
   ]
  },
  {
   "cell_type": "markdown",
   "id": "7cb000fb",
   "metadata": {},
   "source": [
    "**Observation:** \n",
    "DCT performed well over WHT both in terms of EPE and decorrelation efficiency.\n",
    "\n"
   ]
  },
  {
   "cell_type": "code",
   "execution_count": 104,
   "id": "6fe6d064",
   "metadata": {},
   "outputs": [
    {
     "name": "stdout",
     "output_type": "stream",
     "text": [
      "[[ 6.34  0.   -0.29  0.   -0.07 -0.   -0.02  0.  ]\n",
      " [ 0.    0.93  0.   -0.03  0.   -0.01  0.   -0.  ]\n",
      " [-0.29  0.    0.31  0.   -0.    0.   -0.   -0.  ]\n",
      " [ 0.   -0.03  0.    0.15  0.   -0.    0.   -0.  ]\n",
      " [-0.07 -0.   -0.    0.    0.09  0.   -0.   -0.  ]\n",
      " [-0.   -0.01  0.   -0.    0.    0.07  0.   -0.  ]\n",
      " [-0.02  0.   -0.    0.   -0.    0.    0.06 -0.  ]\n",
      " [ 0.   -0.   -0.   -0.   -0.   -0.   -0.    0.05]]\n"
     ]
    }
   ],
   "source": [
    "print(np.round(R_DCT,decimals=2))"
   ]
  },
  {
   "cell_type": "markdown",
   "id": "2bca33b3",
   "metadata": {},
   "source": [
    "Eigen vectors of R exactly same as the DCT basis vectors if on diagonalizing R we get a purely diagonal matrix, here we got diagonal matrix with few off diagonal elements."
   ]
  },
  {
   "cell_type": "markdown",
   "id": "34b12683",
   "metadata": {},
   "source": [
    "***2. Find $\\beta^{2} R^{-1}$, where $\\beta^{2}=\\frac{1-\\rho^{2}}{1+\\rho^{2}}$. Does $\\beta^{2} R^{-1}$ have a tridiagonal structure?. Is it close to the tridiagonal matrix $Q$ given by,***\n",
    "\n",
    "$$\n",
    "\\mathbf{Q}=\\left[\\begin{array}{cccccccc}\n",
    "1-\\alpha & -\\alpha & 0 & 0 & 0 & 0 & 0 & 0 \\\\\n",
    "-\\alpha & 1 & -\\alpha & 0 & 0 & 0 & 0 & 0 \\\\\n",
    "0 & -\\alpha & 1 & -\\alpha & 0 & 0 & 0 & 0 \\\\\n",
    "0 & 0 & -\\alpha & 1 & -\\alpha & 0 & 0 & 0 \\\\\n",
    "0 & 0 & 0 & -\\alpha & 1 & -\\alpha & 0 & 0 \\\\\n",
    "0 & 0 & 0 & 0 & -\\alpha & 1 & -\\alpha & 0 \\\\\n",
    "0 & 0 & 0 & 0 & 0 & -\\alpha & 1 & -\\alpha \\\\\n",
    "0 & 0 & 0 & 0 & 0 & 0 & -\\alpha & 1-\\alpha\n",
    "\\end{array}\\right]\n",
    "$$\n",
    "\n",
    "where $\\alpha=\\frac{\\rho}{1+\\rho^{2}}$\n",
    "\n",
    "Try diagonalizing $\\beta^{2} R^{-1}$ and $\\mathrm{Q}$ using the DCT matrix. What is your observation.?"
   ]
  },
  {
   "cell_type": "markdown",
   "id": "2afe4544",
   "metadata": {},
   "source": [
    "# Computing $\\alpha,\\beta$ values"
   ]
  },
  {
   "cell_type": "code",
   "execution_count": 35,
   "id": "234a3154",
   "metadata": {},
   "outputs": [
    {
     "name": "stdout",
     "output_type": "stream",
     "text": [
      "alpha= 0.4977845850883431\n",
      "beta= 0.09403205513921555\n",
      "beta_square= 0.008842027393704472\n"
     ]
    }
   ],
   "source": [
    "a=1-rho*rho\n",
    "b=1+rho*rho\n",
    "beta=a/b\n",
    "beta_square=beta*beta\n",
    "alpha=rho/b\n",
    "print(\"alpha=\",alpha)\n",
    "print(\"beta=\",beta)\n",
    "print(\"beta_square=\",beta_square)"
   ]
  },
  {
   "cell_type": "markdown",
   "id": "3a95f9a4",
   "metadata": {},
   "source": [
    "# Finding $R^{-1}$"
   ]
  },
  {
   "cell_type": "code",
   "execution_count": 36,
   "id": "277dba79",
   "metadata": {},
   "outputs": [],
   "source": [
    "import numpy as np \n",
    "R_inverse=np.linalg.inv(R)"
   ]
  },
  {
   "cell_type": "code",
   "execution_count": 37,
   "id": "d4b0c2af",
   "metadata": {},
   "outputs": [
    {
     "name": "stdout",
     "output_type": "stream",
     "text": [
      "[[ 5.81733566e+00 -5.29377545e+00  1.77216654e-15 -1.65634868e-15\n",
      "   1.44929322e-15 -1.87984572e-15  1.03179305e-15 -3.90692601e-16]\n",
      " [-5.29377545e+00  1.06346713e+01 -5.29377545e+00  4.38902100e-15\n",
      "  -2.52429349e-15  2.07731293e-15 -2.84062669e-15  1.73704293e-15]\n",
      " [ 1.71363408e-15 -5.29377545e+00  1.06346713e+01 -5.29377545e+00\n",
      "  -1.10998662e-15  4.12621430e-16  1.31212059e-15 -2.16979892e-15]\n",
      " [-1.82313927e-15  6.71007946e-15 -5.29377545e+00  1.06346713e+01\n",
      "  -5.29377545e+00 -8.08858129e-16 -3.59720013e-15  4.14103249e-15]\n",
      " [ 1.28581458e-15 -4.05873577e-15  1.96335870e-15 -5.29377545e+00\n",
      "   1.06346713e+01 -5.29377545e+00  7.67219905e-15 -7.14272443e-15]\n",
      " [-2.52835953e-15  3.65147573e-15  2.04694383e-16 -3.27281929e-15\n",
      "  -5.29377545e+00  1.06346713e+01 -5.29377545e+00  6.69786888e-15]\n",
      " [ 2.38414808e-15 -4.34537804e-15  8.94916614e-16  4.32441233e-16\n",
      "   4.98551171e-15 -5.29377545e+00  1.06346713e+01 -5.29377545e+00]\n",
      " [-4.34401400e-16  2.03650683e-15 -1.58641118e-15  1.33594900e-15\n",
      "  -4.77964252e-15  6.09996185e-15 -5.29377545e+00  5.81733566e+00]]\n"
     ]
    }
   ],
   "source": [
    "print(R_inverse)"
   ]
  },
  {
   "cell_type": "code",
   "execution_count": 38,
   "id": "3cd11661",
   "metadata": {},
   "outputs": [
    {
     "name": "stdout",
     "output_type": "stream",
     "text": [
      "[[ 5.14370413e-02 -4.68077076e-02  1.56695451e-17 -1.46454804e-17\n",
      "   1.28146903e-17 -1.66216473e-17  9.12314246e-18 -3.45451468e-18]\n",
      " [-4.68077076e-02  9.40320551e-02 -4.68077076e-02  3.88078439e-17\n",
      "  -2.23198722e-17  1.83676578e-17 -2.51168990e-17  1.53589812e-17]\n",
      " [ 1.51519995e-17 -4.68077076e-02  9.40320551e-02 -4.68077076e-02\n",
      "  -9.81453209e-18  3.64840998e-18  1.16018062e-17 -1.91854215e-17]\n",
      " [-1.61202474e-17  5.93307064e-17 -4.68077076e-02  9.40320551e-02\n",
      "  -4.68077076e-02 -7.15194573e-18 -3.18065421e-17  3.66151227e-17]\n",
      " [ 1.13692077e-17 -3.58874528e-17  1.73600714e-17 -4.68077076e-02\n",
      "   9.40320551e-02 -4.68077076e-02  6.78377942e-17 -6.31561651e-17]\n",
      " [-2.23558242e-17  3.22864485e-17  1.80991334e-18 -2.89383578e-17\n",
      "  -4.68077076e-02  9.40320551e-02 -4.68077076e-02  5.92227401e-17]\n",
      " [ 2.10807026e-17 -3.84219517e-17  7.91287722e-18  3.82365723e-18\n",
      "   4.40820311e-17 -4.68077076e-02  9.40320551e-02 -4.68077076e-02]\n",
      " [-3.84098908e-18  1.80068492e-17 -1.40270911e-17  1.18124976e-17\n",
      "  -4.22617301e-17  5.39360298e-17 -4.68077076e-02  5.14370413e-02]]\n"
     ]
    }
   ],
   "source": [
    "A=beta_square*R_inverse\n",
    "print(A)"
   ]
  },
  {
   "cell_type": "markdown",
   "id": "7ffa4250",
   "metadata": {},
   "source": [
    "# Tridiagonal Matrix $Q$"
   ]
  },
  {
   "cell_type": "code",
   "execution_count": 39,
   "id": "5c025905",
   "metadata": {},
   "outputs": [],
   "source": [
    "def tridiagonal_matrix(n,alpha):\n",
    "    Q=np.zeros((n,n))\n",
    "    x=np.arange(n)\n",
    "    y=np.arange(n)\n",
    "    X,Y=np.meshgrid(x,y)\n",
    "    diff=abs(X-Y)\n",
    "    Q[diff==1]=-alpha\n",
    "    Q[diff==0]=1\n",
    "    Q[0,0]=1-alpha\n",
    "    Q[-1,-1]=1-alpha\n",
    "    return Q"
   ]
  },
  {
   "cell_type": "code",
   "execution_count": 40,
   "id": "2b6910f4",
   "metadata": {},
   "outputs": [
    {
     "name": "stdout",
     "output_type": "stream",
     "text": [
      "[[ 0.051 -0.047  0.    -0.     0.    -0.     0.    -0.   ]\n",
      " [-0.047  0.094 -0.047  0.    -0.     0.    -0.     0.   ]\n",
      " [ 0.    -0.047  0.094 -0.047 -0.     0.     0.    -0.   ]\n",
      " [-0.     0.    -0.047  0.094 -0.047 -0.    -0.     0.   ]\n",
      " [ 0.    -0.     0.    -0.047  0.094 -0.047  0.    -0.   ]\n",
      " [-0.     0.     0.    -0.    -0.047  0.094 -0.047  0.   ]\n",
      " [ 0.    -0.     0.     0.     0.    -0.047  0.094 -0.047]\n",
      " [-0.     0.    -0.     0.    -0.     0.    -0.047  0.051]]\n"
     ]
    }
   ],
   "source": [
    "print(np.round(A,decimals=3))\n"
   ]
  },
  {
   "cell_type": "code",
   "execution_count": 41,
   "id": "b7862e90",
   "metadata": {},
   "outputs": [
    {
     "name": "stdout",
     "output_type": "stream",
     "text": [
      "[[ 0.502 -0.498  0.     0.     0.     0.     0.     0.   ]\n",
      " [-0.498  1.    -0.498  0.     0.     0.     0.     0.   ]\n",
      " [ 0.    -0.498  1.    -0.498  0.     0.     0.     0.   ]\n",
      " [ 0.     0.    -0.498  1.    -0.498  0.     0.     0.   ]\n",
      " [ 0.     0.     0.    -0.498  1.    -0.498  0.     0.   ]\n",
      " [ 0.     0.     0.     0.    -0.498  1.    -0.498  0.   ]\n",
      " [ 0.     0.     0.     0.     0.    -0.498  1.    -0.498]\n",
      " [ 0.     0.     0.     0.     0.     0.    -0.498  0.502]]\n"
     ]
    }
   ],
   "source": [
    "Q=tridiagonal_matrix(8,alpha)\n",
    "print(np.round(Q,decimals=3))"
   ]
  },
  {
   "cell_type": "markdown",
   "id": "4a2eb4f3",
   "metadata": {},
   "source": [
    "**Observation:** \n",
    "The matrix $\\beta^{2} R^{-1}$ approximately has the tridiagonal structure as $Q$"
   ]
  },
  {
   "cell_type": "markdown",
   "id": "f3189892",
   "metadata": {},
   "source": [
    "# Diagonalizing $\\beta^{2} R^{-1}$ and Q using DCT matrix"
   ]
  },
  {
   "cell_type": "code",
   "execution_count": 42,
   "id": "3fb44c7f",
   "metadata": {},
   "outputs": [
    {
     "name": "stdout",
     "output_type": "stream",
     "text": [
      "[[ 0.001 -0.     0.001 -0.     0.001  0.     0.001  0.   ]\n",
      " [-0.     0.01  -0.     0.002  0.     0.001  0.     0.   ]\n",
      " [ 0.001 -0.     0.03   0.     0.001  0.     0.001  0.   ]\n",
      " [-0.     0.002  0.     0.06   0.     0.001  0.     0.   ]\n",
      " [ 0.001  0.     0.001  0.     0.095  0.     0.001 -0.   ]\n",
      " [ 0.     0.001  0.     0.001  0.     0.131 -0.     0.   ]\n",
      " [ 0.001  0.     0.001  0.     0.001 -0.     0.161  0.   ]\n",
      " [ 0.     0.     0.     0.    -0.     0.     0.     0.181]]\n"
     ]
    }
   ],
   "source": [
    "A_DCT=DCT_2D(A)\n",
    "print(np.round(A_DCT,decimals=3))"
   ]
  },
  {
   "cell_type": "code",
   "execution_count": 43,
   "id": "4fa7cb4d",
   "metadata": {},
   "outputs": [
    {
     "name": "stdout",
     "output_type": "stream",
     "text": [
      "[[ 0.001 -0.     0.001 -0.     0.001  0.     0.001  0.   ]\n",
      " [-0.     0.01  -0.     0.002  0.     0.001  0.     0.   ]\n",
      " [ 0.001 -0.     0.03   0.     0.001  0.     0.001  0.   ]\n",
      " [-0.     0.002  0.     0.06   0.     0.001  0.     0.   ]\n",
      " [ 0.001  0.     0.001  0.     0.095  0.     0.001 -0.   ]\n",
      " [ 0.     0.001  0.     0.001  0.     0.131 -0.     0.   ]\n",
      " [ 0.001  0.     0.001  0.     0.001 -0.     0.161  0.   ]\n",
      " [ 0.     0.     0.     0.    -0.     0.     0.     0.181]]\n"
     ]
    }
   ],
   "source": [
    "Q_DCT=DCT_2D(Q)\n",
    "print(np.round(A_DCT,decimals=3))"
   ]
  },
  {
   "cell_type": "markdown",
   "id": "69397a3f",
   "metadata": {},
   "source": [
    "**Observation:**\n",
    "It can be observed that DCT is diagonalizing both matrices with few off-diagonal elements being present in both matrices and the matrices are almost equal."
   ]
  },
  {
   "cell_type": "markdown",
   "id": "c8d4dd03",
   "metadata": {},
   "source": [
    "***3. Compute SVD for the given $8 \\times 8$ image $\\mathbf{g}$ (provided in imageFile.mat and also given below) using the following steps:***\n",
    "\n",
    "(a) Perform eigen-value decomposition of $\\mathbf{g}^{T} \\mathbf{g}$ and $\\mathbf{g g}^{T}$.\n",
    "\n",
    "(b) Find the singular value matrix $\\boldsymbol{\\Sigma}$.\n",
    "\n",
    "(c) Reconstruct the image using $\\boldsymbol{\\Sigma}$ and the eigen-vector matrices.\n",
    "\n",
    "where\n",
    "Image $\\mathbf{g}=\\left[\\begin{array}{cccccccc}207 & 244 & 107 & 173 & 70 & 111 & 180 & 244 \\\\ 230 & 246 & 233 & 193 & 11 & 97 & 192 & 86 \\\\ 3 & 40 & 202 & 189 & 24 & 195 & 70 & 149 \\\\ 232 & 247 & 244 & 100 & 209 & 202 & 173 & 57 \\\\ 161 & 244 & 167 & 167 & 177 & 47 & 167 & 191 \\\\ 24 & 123 & 9 & 43 & 80 & 124 & 41 & 65 \\\\ 71 & 204 & 216 & 180 & 242 & 113 & 30 & 129 \\\\ 139 & 36 & 238 & 8 & 8 & 164 & 127 & 178\\end{array}\\right]$"
   ]
  },
  {
   "cell_type": "code",
   "execution_count": 44,
   "id": "e3dcf23d",
   "metadata": {},
   "outputs": [
    {
     "name": "stdout",
     "output_type": "stream",
     "text": [
      "[[207 244 107 173  70 111 180 244]\n",
      " [230 246 233 193  11  97 192  86]\n",
      " [ 32  40 202 189  24 195  70 149]\n",
      " [232 247 244 100 209 202 173  57]\n",
      " [161 244 167 167 177  47 167 191]\n",
      " [ 24 123   9  43  80 124  41  65]\n",
      " [ 71 204 216 180 242 113  30 129]\n",
      " [139  36 238   8   8 164 127 178]]\n"
     ]
    }
   ],
   "source": [
    "from scipy.io import loadmat\n",
    "g = loadmat('imageFile.mat')['g']\n",
    "print(g)"
   ]
  },
  {
   "cell_type": "code",
   "execution_count": 61,
   "id": "4222563c",
   "metadata": {},
   "outputs": [],
   "source": [
    "# Finding the eigen values and eigen vectors using np.linalg.eig() and sorting the eigen values in ascending order\n",
    "def sort_eigenvectors(g):\n",
    "    eigvals,eigvecs=np.linalg.eig(g)\n",
    "    idx=eigvals.argsort()[::-1]\n",
    "    eigvals=eigvals[idx]\n",
    "    eigvecs=eigvecs[:,idx]\n",
    "    return eigvals,eigvecs"
   ]
  },
  {
   "cell_type": "markdown",
   "id": "b383cb01",
   "metadata": {},
   "source": [
    "# Eigen value decomposition of  $\\mathbf{g}^{T} \\mathbf{g}$ and $\\mathbf{g g}^{T}$."
   ]
  },
  {
   "cell_type": "code",
   "execution_count": 69,
   "id": "4159d06e",
   "metadata": {},
   "outputs": [],
   "source": [
    "def SVD(g):\n",
    "    g=g.astype(np.float64)\n",
    "    m,n=np.shape(g)\n",
    "    sigma=np.zeros((m,n))\n",
    "    A=g@(g.T)\n",
    "    B=(g.T)@g\n",
    "    eigvals1,eigvec1=sort_eigenvectors(A)\n",
    "    eigvals2,eigvec2=sort_eigenvectors(B)\n",
    "    for i in range(min(m,n)):\n",
    "        sigma[i,i]=(np.sqrt(eigvals1[i])+np.sqrt(eigvals2[i]))/2\n",
    "        vec=eigvec2[:,i]\n",
    "        if np.sum((g@vec-sigma[i,i]*eigvec1[:,i])**2)>np.sum((g@vec+sigma[i,i]*eigvec1[:,i])**2):\n",
    "            eigvec2[:,i]=-vec\n",
    "    return eigvec1,sigma,eigvec2"
   ]
  },
  {
   "cell_type": "markdown",
   "id": "ebe52dd0",
   "metadata": {},
   "source": [
    "***4. Remove one singular value at a time from $\\boldsymbol{\\Sigma}$ and reconstruct the image $\\left(\\widehat{\\mathbf{g}_{k}}\\right)$. Compute $\\left\\|\\mathbf{g}-\\widehat{\\mathbf{g}_{k}}\\right\\|^{2}$ and compare it with the sum of the squares of the first $k$ singular values.*** "
   ]
  },
  {
   "cell_type": "code",
   "execution_count": 84,
   "id": "a1316eae",
   "metadata": {},
   "outputs": [],
   "source": [
    "def reconstruction_error(g,A,sigma,B):\n",
    "    g=g.astype(np.float64)\n",
    "    m,n=np.shape(g)\n",
    "    reconstruction_errors=np.zeros((min(m,n)))\n",
    "    reconstructed_g=g.copy()\n",
    "    for i in range(min(m,n)):\n",
    "        reconstructed_g-=sigma[i,i]*np.outer(A[:,i],B[:,i])\n",
    "        reconstruction_errors[i]=np.sum((reconstructed_g-g)**2)\n",
    "    return reconstruction_errors"
   ]
  },
  {
   "cell_type": "code",
   "execution_count": 85,
   "id": "b73bf984",
   "metadata": {},
   "outputs": [],
   "source": [
    "#theoritical reconstruction error \n",
    "def reconstruction_error_theoritical(Sigma):\n",
    "    sigma=Sigma[Sigma>0]\n",
    "    return np.cumsum(sigma**2)"
   ]
  },
  {
   "cell_type": "markdown",
   "id": "5426b530",
   "metadata": {},
   "source": [
    "Reconstructing the image $\\left(\\widehat{\\mathbf{g}_{k}}\\right)$."
   ]
  },
  {
   "cell_type": "code",
   "execution_count": 86,
   "id": "dfd64bc1",
   "metadata": {},
   "outputs": [
    {
     "name": "stdout",
     "output_type": "stream",
     "text": [
      "[1367373.91062752 1450142.04998311 1516447.96677421 1562365.7738038\n",
      " 1588991.90847999 1606609.006503   1608658.00492797 1609692.        ]\n"
     ]
    }
   ],
   "source": [
    "#Reconstructing g \n",
    "A,sigma,B=SVD(g)\n",
    "g_new=A@sigma@(B.T)\n",
    "g_error=reconstruction_error(g_new,A,sigma,B)\n",
    "print(g_error)"
   ]
  },
  {
   "cell_type": "code",
   "execution_count": 90,
   "id": "b436b7e1",
   "metadata": {},
   "outputs": [
    {
     "name": "stdout",
     "output_type": "stream",
     "text": [
      "[1367373.91062752 1450142.04998311 1516447.96677421 1562365.7738038\n",
      " 1588991.90847999 1606609.006503   1608658.00492797 1609692.        ]\n"
     ]
    }
   ],
   "source": [
    "g_error_theoritical = reconstruction_error_theoritical(sigma)\n",
    "print(g_error_theoritical)"
   ]
  },
  {
   "cell_type": "code",
   "execution_count": 91,
   "id": "dedfe2ed",
   "metadata": {},
   "outputs": [
    {
     "name": "stdout",
     "output_type": "stream",
     "text": [
      "[[207. 244. 107. 173.  70. 111. 180. 244.]\n",
      " [230. 246. 233. 193.  11.  97. 192.  86.]\n",
      " [ 32.  40. 202. 189.  24. 195.  70. 149.]\n",
      " [232. 247. 244. 100. 209. 202. 173.  57.]\n",
      " [161. 244. 167. 167. 177.  47. 167. 191.]\n",
      " [ 24. 123.   9.  43.  80. 124.  41.  65.]\n",
      " [ 71. 204. 216. 180. 242. 113.  30. 129.]\n",
      " [139.  36. 238.   8.   8. 164. 127. 178.]]\n"
     ]
    }
   ],
   "source": [
    "print(g_new)"
   ]
  },
  {
   "cell_type": "code",
   "execution_count": 102,
   "id": "d1586e68",
   "metadata": {},
   "outputs": [
    {
     "data": {
      "image/png": "[encoded data removed]",
      "text/plain": [
       "<Figure size 288x288 with 1 Axes>"
      ]
     },
     "metadata": {
      "needs_background": "light"
     },
     "output_type": "display_data"
    }
   ],
   "source": [
    "plt.figure(figsize=(4, 4))\n",
    "n=8\n",
    "plt.plot(np.arange(n)+1, g_error_theoritical, 'yellow',linewidth=7)\n",
    "plt.plot(np.arange(n)+1, g_error, \"-o\",color='black')\n",
    "plt.xlabel(\"Number of singular values removed\")\n",
    "plt.ylabel(r\"||g-$\\hat{g}_{k}||^{2}$\")\n",
    "plt.legend(['Experimental','Theoriticall'])\n",
    "plt.title(\"Reconstruction errors\")\n",
    "plt.show()"
   ]
  },
  {
   "cell_type": "markdown",
   "id": "f4f867a3",
   "metadata": {},
   "source": [
    "From the above plot we can clearly see that computing SVD for a given image g and reconstructing it using all singular values gives exact same information and the theoritical and calculated values for reconstruction errors on removing some k singular values is some squares of those k singular values"
   ]
  }
 ],
 "metadata": {
  "kernelspec": {
   "display_name": "Python 3 (ipykernel)",
   "language": "python",
   "name": "python3"
  },
  "language_info": {
   "codemirror_mode": {
    "name": "ipython",
    "version": 3
   },
   "file_extension": ".py",
   "mimetype": "text/x-python",
   "name": "python",
   "nbconvert_exporter": "python",
   "pygments_lexer": "ipython3",
   "version": "3.9.7"
  }
 },
 "nbformat": 4,
 "nbformat_minor": 5
}
